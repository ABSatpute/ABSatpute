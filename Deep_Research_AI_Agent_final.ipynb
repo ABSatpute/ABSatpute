{
  "nbformat": 4,
  "nbformat_minor": 0,
  "metadata": {
    "colab": {
      "provenance": [],
      "authorship_tag": "ABX9TyOK+0Lh0bQyD1PEP2bq7Y3v",
      "include_colab_link": true
    },
    "kernelspec": {
      "name": "python3",
      "display_name": "Python 3"
    },
    "language_info": {
      "name": "python"
    }
  },
  "cells": [
    {
      "cell_type": "markdown",
      "metadata": {
        "id": "view-in-github",
        "colab_type": "text"
      },
      "source": [
        "<a href=\"https://colab.research.google.com/github/ABSatpute/ABSatpute/blob/main/Deep_Research_AI_Agent_final.ipynb\" target=\"_parent\"><img src=\"https://colab.research.google.com/assets/colab-badge.svg\" alt=\"Open In Colab\"/></a>"
      ]
    },
    {
      "cell_type": "code",
      "source": [
        "!pip install langgraph langsmith langchain_groq langchain_community tavily-python"
      ],
      "metadata": {
        "colab": {
          "base_uri": "https://localhost:8080/"
        },
        "id": "tj4N3khLs9Se",
        "outputId": "1ca030c5-cb6b-4e22-cb1d-ad19da28367e"
      },
      "execution_count": 2,
      "outputs": [
        {
          "output_type": "stream",
          "name": "stdout",
          "text": [
            "Requirement already satisfied: langgraph in /usr/local/lib/python3.11/dist-packages (0.3.2)\n",
            "Requirement already satisfied: langsmith in /usr/local/lib/python3.11/dist-packages (0.3.11)\n",
            "Requirement already satisfied: langchain_groq in /usr/local/lib/python3.11/dist-packages (0.2.4)\n",
            "Requirement already satisfied: langchain_community in /usr/local/lib/python3.11/dist-packages (0.3.18)\n",
            "Requirement already satisfied: tavily-python in /usr/local/lib/python3.11/dist-packages (0.5.1)\n",
            "Requirement already satisfied: langchain-core<0.4,>=0.1 in /usr/local/lib/python3.11/dist-packages (from langgraph) (0.3.40)\n",
            "Requirement already satisfied: langgraph-checkpoint<3.0.0,>=2.0.10 in /usr/local/lib/python3.11/dist-packages (from langgraph) (2.0.16)\n",
            "Requirement already satisfied: langgraph-prebuilt<0.2,>=0.1.1 in /usr/local/lib/python3.11/dist-packages (from langgraph) (0.1.1)\n",
            "Requirement already satisfied: langgraph-sdk<0.2.0,>=0.1.42 in /usr/local/lib/python3.11/dist-packages (from langgraph) (0.1.53)\n",
            "Requirement already satisfied: httpx<1,>=0.23.0 in /usr/local/lib/python3.11/dist-packages (from langsmith) (0.28.1)\n",
            "Requirement already satisfied: orjson<4.0.0,>=3.9.14 in /usr/local/lib/python3.11/dist-packages (from langsmith) (3.10.15)\n",
            "Requirement already satisfied: packaging>=23.2 in /usr/local/lib/python3.11/dist-packages (from langsmith) (24.2)\n",
            "Requirement already satisfied: pydantic<3,>=1 in /usr/local/lib/python3.11/dist-packages (from langsmith) (2.10.6)\n",
            "Requirement already satisfied: requests<3,>=2 in /usr/local/lib/python3.11/dist-packages (from langsmith) (2.32.3)\n",
            "Requirement already satisfied: requests-toolbelt<2.0.0,>=1.0.0 in /usr/local/lib/python3.11/dist-packages (from langsmith) (1.0.0)\n",
            "Requirement already satisfied: zstandard<0.24.0,>=0.23.0 in /usr/local/lib/python3.11/dist-packages (from langsmith) (0.23.0)\n",
            "Requirement already satisfied: groq<1,>=0.4.1 in /usr/local/lib/python3.11/dist-packages (from langchain_groq) (0.18.0)\n",
            "Requirement already satisfied: langchain<1.0.0,>=0.3.19 in /usr/local/lib/python3.11/dist-packages (from langchain_community) (0.3.19)\n",
            "Requirement already satisfied: SQLAlchemy<3,>=1.4 in /usr/local/lib/python3.11/dist-packages (from langchain_community) (2.0.38)\n",
            "Requirement already satisfied: PyYAML>=5.3 in /usr/local/lib/python3.11/dist-packages (from langchain_community) (6.0.2)\n",
            "Requirement already satisfied: aiohttp<4.0.0,>=3.8.3 in /usr/local/lib/python3.11/dist-packages (from langchain_community) (3.11.13)\n",
            "Requirement already satisfied: tenacity!=8.4.0,<10,>=8.1.0 in /usr/local/lib/python3.11/dist-packages (from langchain_community) (9.0.0)\n",
            "Requirement already satisfied: dataclasses-json<0.7,>=0.5.7 in /usr/local/lib/python3.11/dist-packages (from langchain_community) (0.6.7)\n",
            "Requirement already satisfied: pydantic-settings<3.0.0,>=2.4.0 in /usr/local/lib/python3.11/dist-packages (from langchain_community) (2.8.1)\n",
            "Requirement already satisfied: httpx-sse<1.0.0,>=0.4.0 in /usr/local/lib/python3.11/dist-packages (from langchain_community) (0.4.0)\n",
            "Requirement already satisfied: numpy<2,>=1.26.4 in /usr/local/lib/python3.11/dist-packages (from langchain_community) (1.26.4)\n",
            "Requirement already satisfied: tiktoken>=0.5.1 in /usr/local/lib/python3.11/dist-packages (from tavily-python) (0.9.0)\n",
            "Requirement already satisfied: aiohappyeyeballs>=2.3.0 in /usr/local/lib/python3.11/dist-packages (from aiohttp<4.0.0,>=3.8.3->langchain_community) (2.4.6)\n",
            "Requirement already satisfied: aiosignal>=1.1.2 in /usr/local/lib/python3.11/dist-packages (from aiohttp<4.0.0,>=3.8.3->langchain_community) (1.3.2)\n",
            "Requirement already satisfied: attrs>=17.3.0 in /usr/local/lib/python3.11/dist-packages (from aiohttp<4.0.0,>=3.8.3->langchain_community) (25.1.0)\n",
            "Requirement already satisfied: frozenlist>=1.1.1 in /usr/local/lib/python3.11/dist-packages (from aiohttp<4.0.0,>=3.8.3->langchain_community) (1.5.0)\n",
            "Requirement already satisfied: multidict<7.0,>=4.5 in /usr/local/lib/python3.11/dist-packages (from aiohttp<4.0.0,>=3.8.3->langchain_community) (6.1.0)\n",
            "Requirement already satisfied: propcache>=0.2.0 in /usr/local/lib/python3.11/dist-packages (from aiohttp<4.0.0,>=3.8.3->langchain_community) (0.3.0)\n",
            "Requirement already satisfied: yarl<2.0,>=1.17.0 in /usr/local/lib/python3.11/dist-packages (from aiohttp<4.0.0,>=3.8.3->langchain_community) (1.18.3)\n",
            "Requirement already satisfied: marshmallow<4.0.0,>=3.18.0 in /usr/local/lib/python3.11/dist-packages (from dataclasses-json<0.7,>=0.5.7->langchain_community) (3.26.1)\n",
            "Requirement already satisfied: typing-inspect<1,>=0.4.0 in /usr/local/lib/python3.11/dist-packages (from dataclasses-json<0.7,>=0.5.7->langchain_community) (0.9.0)\n",
            "Requirement already satisfied: anyio<5,>=3.5.0 in /usr/local/lib/python3.11/dist-packages (from groq<1,>=0.4.1->langchain_groq) (3.7.1)\n",
            "Requirement already satisfied: distro<2,>=1.7.0 in /usr/local/lib/python3.11/dist-packages (from groq<1,>=0.4.1->langchain_groq) (1.9.0)\n",
            "Requirement already satisfied: sniffio in /usr/local/lib/python3.11/dist-packages (from groq<1,>=0.4.1->langchain_groq) (1.3.1)\n",
            "Requirement already satisfied: typing-extensions<5,>=4.10 in /usr/local/lib/python3.11/dist-packages (from groq<1,>=0.4.1->langchain_groq) (4.12.2)\n",
            "Requirement already satisfied: certifi in /usr/local/lib/python3.11/dist-packages (from httpx<1,>=0.23.0->langsmith) (2025.1.31)\n",
            "Requirement already satisfied: httpcore==1.* in /usr/local/lib/python3.11/dist-packages (from httpx<1,>=0.23.0->langsmith) (1.0.7)\n",
            "Requirement already satisfied: idna in /usr/local/lib/python3.11/dist-packages (from httpx<1,>=0.23.0->langsmith) (3.10)\n",
            "Requirement already satisfied: h11<0.15,>=0.13 in /usr/local/lib/python3.11/dist-packages (from httpcore==1.*->httpx<1,>=0.23.0->langsmith) (0.14.0)\n",
            "Requirement already satisfied: langchain-text-splitters<1.0.0,>=0.3.6 in /usr/local/lib/python3.11/dist-packages (from langchain<1.0.0,>=0.3.19->langchain_community) (0.3.6)\n",
            "Requirement already satisfied: jsonpatch<2.0,>=1.33 in /usr/local/lib/python3.11/dist-packages (from langchain-core<0.4,>=0.1->langgraph) (1.33)\n",
            "Requirement already satisfied: msgpack<2.0.0,>=1.1.0 in /usr/local/lib/python3.11/dist-packages (from langgraph-checkpoint<3.0.0,>=2.0.10->langgraph) (1.1.0)\n",
            "Requirement already satisfied: annotated-types>=0.6.0 in /usr/local/lib/python3.11/dist-packages (from pydantic<3,>=1->langsmith) (0.7.0)\n",
            "Requirement already satisfied: pydantic-core==2.27.2 in /usr/local/lib/python3.11/dist-packages (from pydantic<3,>=1->langsmith) (2.27.2)\n",
            "Requirement already satisfied: python-dotenv>=0.21.0 in /usr/local/lib/python3.11/dist-packages (from pydantic-settings<3.0.0,>=2.4.0->langchain_community) (1.0.1)\n",
            "Requirement already satisfied: charset-normalizer<4,>=2 in /usr/local/lib/python3.11/dist-packages (from requests<3,>=2->langsmith) (3.4.1)\n",
            "Requirement already satisfied: urllib3<3,>=1.21.1 in /usr/local/lib/python3.11/dist-packages (from requests<3,>=2->langsmith) (2.3.0)\n",
            "Requirement already satisfied: greenlet!=0.4.17 in /usr/local/lib/python3.11/dist-packages (from SQLAlchemy<3,>=1.4->langchain_community) (3.1.1)\n",
            "Requirement already satisfied: regex>=2022.1.18 in /usr/local/lib/python3.11/dist-packages (from tiktoken>=0.5.1->tavily-python) (2024.11.6)\n",
            "Requirement already satisfied: jsonpointer>=1.9 in /usr/local/lib/python3.11/dist-packages (from jsonpatch<2.0,>=1.33->langchain-core<0.4,>=0.1->langgraph) (3.0.0)\n",
            "Requirement already satisfied: mypy-extensions>=0.3.0 in /usr/local/lib/python3.11/dist-packages (from typing-inspect<1,>=0.4.0->dataclasses-json<0.7,>=0.5.7->langchain_community) (1.0.0)\n"
          ]
        }
      ]
    },
    {
      "cell_type": "code",
      "source": [
        "import json\n",
        "import re\n",
        "import os\n",
        "from langchain.tools import TavilySearchResults\n",
        "from langchain.text_splitter import RecursiveCharacterTextSplitter\n",
        "from langchain.chains.summarize import load_summarize_chain\n",
        "from langchain_groq import ChatGroq\n",
        "from langchain.schema import Document, AIMessage\n",
        "from langgraph.graph import StateGraph\n",
        "from pydantic import BaseModel, Field\n",
        "from google.colab import userdata\n"
      ],
      "metadata": {
        "id": "H1iTT9hrnktV"
      },
      "execution_count": 14,
      "outputs": []
    },
    {
      "cell_type": "code",
      "source": [
        "\n",
        "# 🔹 Set API Keys\n",
        "groq_api_key = userdata.get(\"groq_api_key\")\n",
        "tavily_api_key = userdata.get(\"tavily_api_key\")\n",
        "\n",
        "os.environ[\"TAVILY_API_KEY\"] = tavily_api_key\n",
        "\n"
      ],
      "metadata": {
        "id": "WeJVY8punwHC"
      },
      "execution_count": 15,
      "outputs": []
    },
    {
      "cell_type": "code",
      "source": [
        "# 🔹 Initialize LLMs\n",
        "llm_summarize = ChatGroq(groq_api_key=groq_api_key, model_name=\"mixtral-8x7b-32768\")\n",
        "llm_answer = ChatGroq(groq_api_key=groq_api_key, model_name=\"deepseek-r1-distill-llama-70b\")\n",
        "\n"
      ],
      "metadata": {
        "id": "wDVvquwOn34i"
      },
      "execution_count": 16,
      "outputs": []
    },
    {
      "cell_type": "code",
      "source": [
        "# 🔹 Define AI Agent State\n",
        "\"\"\"Represents the state of the AI agent workflow, including query, search results,and final answer.\"\"\"\n",
        "class State(BaseModel):\n",
        "    query: str = Field(default=\"\")\n",
        "    search_results: list[Document] = Field(default_factory=list)\n",
        "    structured_results: list = Field(default_factory=list)\n",
        "    final_answer: str = Field(default=\"\")\n",
        "\n",
        "\n"
      ],
      "metadata": {
        "id": "Ge2bk8Cboatn"
      },
      "execution_count": 19,
      "outputs": []
    },
    {
      "cell_type": "code",
      "source": [
        "# 🔹 STEP 1: Fetch Search Results from Tavily API\n",
        "def fetch_tavily_results(state: State):\n",
        "    \"\"\" Fetches top search results from Tavily API. \"\"\"\n",
        "    tavily = TavilySearchResults(api_key=tavily_api_key)\n",
        "    docs = tavily.run(state.query)\n",
        "    state.search_results = [Document(page_content=d[\"content\"], metadata=d) for d in docs]\n",
        "    return state\n"
      ],
      "metadata": {
        "id": "dKuJ9Q0bohNf"
      },
      "execution_count": 20,
      "outputs": []
    },
    {
      "cell_type": "code",
      "source": [
        "# 🔹 STEP 2: Clean & Preprocess Text\n",
        "def clean_text(text):\n",
        "    \"\"\" Cleans text by removing URLs, special characters, and extra spaces. \"\"\"\n",
        "    text = re.sub(r\"http\\S+\", \"\", text)  # Remove URLs\n",
        "    text = re.sub(r\"[^\\w\\s]\", \"\", text)  # Remove special characters\n",
        "    text = re.sub(r\"\\s+\", \" \", text).strip()  # Remove extra spaces\n",
        "    return text\n",
        "\n"
      ],
      "metadata": {
        "id": "bOOMWTFMougA"
      },
      "execution_count": 21,
      "outputs": []
    },
    {
      "cell_type": "code",
      "source": [
        "# 🔹 STEP 3: Summarize Search Results\n",
        "def summarize_text(text):\n",
        "    \"\"\" Summarizes text using Mixtral Model.\n",
        "        Summarizes the gathered search results to extract key information.\"\"\"\n",
        "    text_splitter = RecursiveCharacterTextSplitter(chunk_size=1000, chunk_overlap=100)\n",
        "    texts = text_splitter.split_text(text)\n",
        "    docs = [Document(page_content=t) for t in texts]\n",
        "\n",
        "    summarize_chain = load_summarize_chain(llm_summarize, chain_type=\"map_reduce\")\n",
        "    summary = summarize_chain.run(docs)\n",
        "    return summary\n",
        "\n"
      ],
      "metadata": {
        "id": "ifNyZbt0oz7V"
      },
      "execution_count": 22,
      "outputs": []
    },
    {
      "cell_type": "code",
      "source": [
        "# 🔹 STEP 4: Process & Structure Search Results\n",
        "def process_search_results(state: State):\n",
        "    \"\"\" Processes Tavily search results and structures them into JSON format. \"\"\"\n",
        "    structured_results = []\n",
        "\n",
        "    for doc in state.search_results:\n",
        "        cleaned_content = clean_text(doc.page_content)\n",
        "        summary = summarize_text(cleaned_content)\n",
        "\n",
        "        structured_results.append({\n",
        "            \"title\": doc.metadata.get(\"title\", \"No Title Found\"),\n",
        "            \"url\": doc.metadata.get(\"url\", \"\"),\n",
        "            \"summary\": summary\n",
        "        })\n",
        "\n",
        "    state.structured_results = structured_results\n",
        "    return state\n",
        "\n"
      ],
      "metadata": {
        "id": "hAMkJKeno7Rl"
      },
      "execution_count": 23,
      "outputs": []
    },
    {
      "cell_type": "code",
      "source": [
        "# 🔹 STEP 5: Generate Final Answer\n",
        "def generate_final_answer(state: State):\n",
        "    \"\"\" Generates a final, well-structured answer based on the processed research data using DeepSeek. \"\"\"\n",
        "    prompt = f\"Summarize the following research findings:\\n\\n{json.dumps(state.structured_results, indent=4)}\"\n",
        "    response = llm_answer.invoke(prompt)\n",
        "\n",
        "    state.final_answer = response.content if isinstance(response, AIMessage) else response\n",
        "    return state\n",
        "\n"
      ],
      "metadata": {
        "id": "SjgzNTKgpCbs"
      },
      "execution_count": 24,
      "outputs": []
    },
    {
      "cell_type": "code",
      "source": [
        "# 🔹 STEP 6: Define Multi-Step AI Workflow\n",
        "workflow = StateGraph(State)\n",
        "\n",
        "# 🔹 Add nodes representing different processing steps in the AI pipeline\n",
        "workflow.add_node(\"fetch_results\", fetch_tavily_results)  # Fetch search results using Tavily API\n",
        "workflow.add_node(\"process_results\", process_search_results)  # Clean, summarize, and structure results\n",
        "workflow.add_node(\"generate_answer\", generate_final_answer)  # Generate final answer using DeepSeek model\n",
        "\n",
        "# 🔹 Define the sequence of execution (edges between nodes)\n",
        "workflow.add_edge(\"fetch_results\", \"process_results\")  # After fetching, process the search results\n",
        "workflow.add_edge(\"process_results\", \"generate_answer\")  # After processing, generate a final answer\n",
        "\n",
        "# 🔹 Set entry and exit points for the workflow\n",
        "workflow.set_entry_point(\"fetch_results\")  # First step of execution\n",
        "workflow.set_finish_point(\"generate_answer\")  # Final output after processing\n",
        "\n",
        "# 🔹 Compile the AI Research System\n",
        "research_ai_system = workflow.compile()  # Converts the workflow into an executable system\n"
      ],
      "metadata": {
        "id": "VQ8_LzaZpH9H"
      },
      "execution_count": 28,
      "outputs": []
    },
    {
      "cell_type": "code",
      "source": [
        "# 🔹 Run the AI Chatbot in Real-Time\n",
        "def run_agent(query):\n",
        "    \"\"\"\n",
        "    Runs the AI Agent System for a given query.\n",
        "\n",
        "    Steps:\n",
        "    1. Initializes the system state with the user's query.\n",
        "    2. Executes the research workflow using LangGraph.\n",
        "    3. Extracts structured research findings and a final answer.\n",
        "    4. Returns the structured results and the AI-generated response.\n",
        "    \"\"\"\n",
        "\n",
        "    # Initialize the AI system state with the user's query\n",
        "    initial_state = State(query=query)\n",
        "\n",
        "    # Invoke the compiled AI research system to process the query\n",
        "    final_state = research_ai_system.invoke(initial_state)\n",
        "\n",
        "    # Retrieve the structured search results and final generated answer\n",
        "    structured_results = final_state.get(\"structured_results\", [])  # List of processed results\n",
        "    final_answer = final_state.get(\"final_answer\", \"\")  # Final summarized answer\n",
        "\n",
        "    # Return the collected information in a structured format\n",
        "    return {\n",
        "        \"query\": query,  # Original user query\n",
        "        \"structured_results\": structured_results,  # List of search results with summaries\n",
        "        \"final_answer\": final_answer  # AI-generated response based on research findings\n",
        "    }\n"
      ],
      "metadata": {
        "id": "0imi8BLypM_y"
      },
      "execution_count": 29,
      "outputs": []
    },
    {
      "cell_type": "code",
      "source": [
        "\n",
        "# Real-Time Interactive Chat Loop\n",
        "\n",
        "\n",
        "while True:\n",
        "    # Prompt the user for a research query\n",
        "    user_input = input(\"\\nEnter your query (type 'quit' to exit): \")\n",
        "\n",
        "    # Check for exit command\n",
        "    if user_input.lower() in [\"quit\", \"q\", \"exit\"]:\n",
        "        print(\"Session ended. Have a great day!\")\n",
        "        break\n",
        "\n",
        "    # Process the query using the AI agent\n",
        "    response = run_agent(user_input)\n",
        "\n",
        "\n",
        "    # Display Research Summary\n",
        "\n",
        "    print(\"\\n--- Research Summary ---\")\n",
        "    for idx, res in enumerate(response[\"structured_results\"], start=1):\n",
        "        print(f\"\\n{idx}. Title: {res['title']}\")\n",
        "        print(f\"URL: {res['url']}\")\n",
        "        print(f\"Summary: {res['summary']}\")\n",
        "\n",
        "\n",
        "    # Display Final AI-Generated Answer\n",
        "\n",
        "    print(\"\\n--- Final Answer ---\")\n",
        "    print(response[\"final_answer\"])\n"
      ],
      "metadata": {
        "colab": {
          "base_uri": "https://localhost:8080/"
        },
        "id": "IqZSXssupQ0e",
        "outputId": "caf68391-dae7-4c9b-fa3b-3adade3e41ff"
      },
      "execution_count": 30,
      "outputs": [
        {
          "output_type": "stream",
          "name": "stdout",
          "text": [
            "\n",
            "Enter your query (type 'quit' to exit): ddhananjay munde rajinama\n",
            "\n",
            "--- Research Summary ---\n",
            "\n",
            "1. Title: No Title Found\n",
            "URL: https://www.deccanherald.com/india/maharashtra/beed-sarpanch-murder-mundes-resignation-will-be-announced-before-budget-session-claims-estranged-wife-karuna-sharma-3428279\n",
            "Summary: Karuna Munde, via a Facebook post, suggested that Dhananjay Munde should resign from his position due to the likelihood of his name being included in a list (possibly 322025) associated with alleged scandal or wrongdoing.\n",
            "\n",
            "2. Title: No Title Found\n",
            "URL: https://www.instagram.com/lokshahimarathi/reel/DFXqH7yt1W0/dhananjay-munde-on-rajinama-%E0%A4%AE%E0%A5%80-%E0%A4%B0%E0%A4%BE%E0%A4%9C%E0%A5%80%E0%A4%A8%E0%A4%BE%E0%A4%AE%E0%A5%8D%E0%A4%AF%E0%A4%BE%E0%A4%B5%E0%A4%B0-%E0%A4%89%E0%A4%A4%E0%A5%8D%E0%A4%A4%E0%A4%B0-%E0%A4%A6%E0%A5%87%E0%A4%A3%E0%A4%BE%E0%A4%B0-%E0%A4%A8%E0%A4%BE%E0%A4%B9%E0%A5%80-%E0%A4%A7%E0%A4%A8%E0%A4%82%E0%A4%9C%E0%A4%AF-%E0%A4%AE%E0%A5%81%E0%A4%82%E0%A4%A1%E0%A5%87-%E0%A4%AF%E0%A4%BE%E0%A4%82%E0%A4%9A%E0%A4%82-%E0%A4%B5/\n",
            "Summary: A golden chariot, driven by horses and carrying a mighty king, heads north, outpacing an iron chariot in speed and strength as it approaches a sacrificial arena.\n",
            "\n",
            "3. Title: No Title Found\n",
            "URL: https://www.youtube.com/watch?v=LD0TCG9UprY\n",
            "Summary: Lokshahi News, a Marathi news outlet, hosted a 37-minute segment called \"Rajinama\" with Dhananjay Munde, a Maharashtra, India politician. The segment received 136 views, but specific details of the discussion are not provided.\n",
            "\n",
            "4. Title: No Title Found\n",
            "URL: https://www.youtube.com/watch?v=wHdxW6NfSP4\n",
            "Summary: Dhananjay Munde, a politician, discussed \"Rajinama\" in a video posted by walmikkarad on abpmajhalive, which received 22,000 views in the past month.\n",
            "\n",
            "5. Title: No Title Found\n",
            "URL: https://www.etvbharat.com/mr/!state/cm-devendra-fadnavis-accepts-minister-dhananjay-munde-resignation-over-beed-sarpanch-murder-case-know-political-reactions-amid-opposition-parties-protest-in-mahashtra-budget-2025-maharashtra-news-mhs25030401544\n",
            "Summary: A grand sacrificial ritual (mahansion) was conducted in a newly built temple (navalayanatar makhyamatar) during a royal conquest (rajyamatar dhanajaya mad) to ensure the kingdom's success and prosperity. The ritual, which lasted for ten days (valmak karad yach satash dashamkh), involved various offerings, including animals (hatayaparakaranat makhyarap).\n",
            "\n",
            "--- Final Answer ---\n",
            "<think>\n",
            "Okay, so I need to summarize these research findings. Let me look through each item one by one and see what they're about.\n",
            "\n",
            "The first item is a summary from a Facebook post by Karuna Munde. She's suggesting that Dhananjay Munde should resign because his name might be on a list related to some scandal. That seems like a political issue, possibly involving some wrongdoing.\n",
            "\n",
            "The second item is about an Instagram reel. It describes a golden chariot driven by horses, going north, and passing an iron chariot. It mentions a sacrificial arena. Hmm, that sounds more symbolic or maybe from a story or ritual, not sure how it connects to the others.\n",
            "\n",
            "The third item is a YouTube video from Lokshahi News. It's a 37-minute segment with Dhananjay Munde, but there's no detail on what was discussed. Not much to go on here, but it's media coverage of him.\n",
            "\n",
            "The fourth item is another YouTube video, this time by walmikkarad on abpmajhalive. It's about Dhananjay Munde discussing \"Rajinama\" and got 22,000 views. Maybe \"Rajinama\" is a significant term here, perhaps a policy or initiative?\n",
            "\n",
            "The fifth item is from ETV Bharat. It talks about a sacrificial ritual in a temple during a royal conquest. It mentions a ten-day ritual with animal offerings. This seems like a cultural or religious event, possibly linked to political strategy.\n",
            "\n",
            "Putting it all together: Dhananjay Munde is a politician facing some controversy, as his estranged wife suggests he should resign due to a scandal. There are media segments about him, including discussions on \"Rajinama,\" which might be a political strategy or event. There's also mention of rituals, which could be metaphorical or part of a political campaign.\n",
            "\n",
            "I need to make sure I capture the political turmoil, the scandal, the media coverage, and the possible ritualistic or symbolic elements mentioned. Maybe the rituals are part of a political move or a cultural event he's involved in.\n",
            "\n",
            "Wait, the second and fifth items seem more symbolic or ritualistic, while the others are about political issues. I should clarify that in the summary, noting that some items are about political controversies and others about cultural or symbolic events.\n",
            "\n",
            "I need to present this clearly, making sure each point is covered without getting too confused between the different contexts. Maybe separate the political issues from the cultural ones in the summary.\n",
            "\n",
            "Okay, I think I have a good grasp now. Time to put it all together in a concise summary.\n",
            "</think>\n",
            "\n",
            "The research findings encompass a mix of political and cultural elements surrounding Dhananjay Munde, a Maharashtra politician. Here's a structured summary:\n",
            "\n",
            "1. **Political Controversy**: \n",
            "   - Karuna Munde, Dhananjay's estranged wife, suggested his resignation due to potential involvement in a scandal, indicated by a list possibly linked to wrongdoing.\n",
            "\n",
            "2. **Media Coverage**:\n",
            "   - Dhananjay Munde was featured in a 37-minute segment by Lokshahi News titled \"Rajinama,\" though details of the discussion were not provided.\n",
            "   - Another video by walmikkarad on abpmajhalive, also discussing \"Rajinama,\" garnered 22,000 views, suggesting significant public interest or relevance.\n",
            "\n",
            "3. **Cultural and Symbolic Elements**:\n",
            "   - Descriptions of a golden chariot and sacrificial rituals were noted, possibly metaphorical or part of cultural events.\n",
            "   - A ten-day ritual in a temple during a royal conquest was mentioned, involving offerings, which could be linked to political strategy or cultural engagement.\n",
            "\n",
            "In summary, Dhananjay Munde faces political turmoil amid suggestions of scandal, while also being involved in media discussions and cultural events that may have symbolic or strategic significance.\n",
            "\n",
            "Enter your query (type 'quit' to exit): q\n",
            "Session ended. Have a great day!\n"
          ]
        }
      ]
    },
    {
      "cell_type": "code",
      "source": [],
      "metadata": {
        "id": "rnoZVktgpR_0"
      },
      "execution_count": null,
      "outputs": []
    }
  ]
}